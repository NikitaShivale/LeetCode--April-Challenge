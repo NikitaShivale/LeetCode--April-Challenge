{
 "cells": [
  {
   "cell_type": "markdown",
   "metadata": {},
   "source": [
    "# Single Number\n",
    "Given a non-empty array of integers, every element appears twice except for one. Find that single one.\n",
    "\n",
    "Input: [2,2,1]\n",
    "Output: 1"
   ]
  },
  {
   "cell_type": "code",
   "execution_count": null,
   "metadata": {},
   "outputs": [],
   "source": [
    "class Solution(object):\n",
    "    def singleNumber(self, nums):\n",
    "        res = nums[0]\n",
    "        \n",
    "        for i in range(1, len(nums)):\n",
    "            res= res^nums[i]\n",
    "        return res"
   ]
  },
  {
   "cell_type": "markdown",
   "metadata": {},
   "source": [
    "# Happy Number\n",
    "\n",
    "Write an algorithm to determine if a number n is \"happy\".\n",
    "\n",
    "A happy number is a number defined by the following process: Starting with any positive integer, replace the number by the sum of the squares of its digits, and repeat the process until the number equals 1 (where it will stay), or it loops endlessly in a cycle which does not include 1. Those numbers for which this process ends in 1 are happy numbers.\n",
    "\n",
    "Return True if n is a happy number, and False if not.\n",
    "\n",
    "Input: 19\n",
    "Output: true\n",
    "Explanation: \n",
    "12 + 92 = 82\n",
    "82 + 22 = 68\n",
    "62 + 82 = 100\n",
    "12 + 02 + 02 = 1"
   ]
  },
  {
   "cell_type": "code",
   "execution_count": null,
   "metadata": {},
   "outputs": [],
   "source": [
    "class Solution(object):\n",
    "    def isHappy(self, n):\n",
    "        \n",
    "        visited = set()\n",
    "        while n != 1:\n",
    "            n = sum(int(i)**2 for i in str(n))\n",
    "            if n in visited:\n",
    "                return False\n",
    "            else:\n",
    "                visited.add(n)\n",
    "        else:\n",
    "            return True"
   ]
  },
  {
   "cell_type": "markdown",
   "metadata": {},
   "source": [
    "# Maximum Subarray\n",
    "\n",
    "Given an integer array nums, find the contiguous subarray (containing at least one number) which has the largest sum and return its sum.\n",
    "\n",
    "Input: [-2,1,-3,4,-1,2,1,-5,4],\n",
    "Output: 6\n",
    "Explanation: [4,-1,2,1] has the largest sum = 6."
   ]
  },
  {
   "cell_type": "code",
   "execution_count": null,
   "metadata": {},
   "outputs": [],
   "source": [
    "class Solution(object):\n",
    "    def maxSubArray(self, nums):\n",
    "        \n",
    "        for i in range(1,len(nums)):\n",
    "            if nums[i-1] >0:\n",
    "                nums[i] += nums[i-1]\n",
    "        return max(nums)"
   ]
  },
  {
   "cell_type": "markdown",
   "metadata": {},
   "source": [
    "# Move Zeroes\n",
    "\n",
    "Given an array nums, write a function to move all 0's to the end of it while maintaining the relative order of the non-zero elements.\n",
    "\n",
    "Input: [0,1,0,3,12]\n",
    "Output: [1,3,12,0,0]"
   ]
  },
  {
   "cell_type": "code",
   "execution_count": null,
   "metadata": {},
   "outputs": [],
   "source": [
    "class Solution(object):\n",
    "    def moveZeroes(self, nums):\n",
    "        \n",
    "        i = 0\n",
    "        for j in range(len(nums)):\n",
    "            if nums[j] != 0:\n",
    "                nums[i] ,nums[j] = nums[j], nums[i]\n",
    "                i+=1"
   ]
  },
  {
   "cell_type": "markdown",
   "metadata": {},
   "source": [
    "# Best Time to Buy and Sell Stock II\n",
    "\n",
    "Say you have an array prices for which the ith element is the price of a given stock on day i.\n",
    "\n",
    "Design an algorithm to find the maximum profit. You may complete as many transactions as you like (i.e., buy one and sell one share of the stock multiple times).\n",
    "\n",
    "Input: [7,1,5,3,6,4]\n",
    "Output: 7\n",
    "Explanation: Buy on day 2 (price = 1) and sell on day 3 (price = 5), profit = 5-1 = 4.\n",
    "             Then buy on day 4 (price = 3) and sell on day 5 (price = 6), profit = 6-3 = 3."
   ]
  },
  {
   "cell_type": "code",
   "execution_count": null,
   "metadata": {},
   "outputs": [],
   "source": [
    "class Solution(object):\n",
    "    def maxProfit(self, prices):\n",
    "        \n",
    "        return sum(max(prices[i + 1] - prices[i], 0) for i in range(len(prices) - 1))"
   ]
  },
  {
   "cell_type": "markdown",
   "metadata": {},
   "source": [
    "# Group Anagrams\n",
    "\n",
    "Given an array of strings, group anagrams together.\n",
    "\n",
    "Input: [\"eat\", \"tea\", \"tan\", \"ate\", \"nat\", \"bat\"],\n",
    "Output:\n",
    "[\n",
    "  [\"ate\",\"eat\",\"tea\"],\n",
    "  [\"nat\",\"tan\"],\n",
    "  [\"bat\"]\n",
    "]"
   ]
  },
  {
   "cell_type": "code",
   "execution_count": null,
   "metadata": {},
   "outputs": [],
   "source": [
    "class Solution(object):\n",
    "    def groupAnagrams(self, strs):\n",
    "        \n",
    "        res = collections.defaultdict(list)\n",
    "        for i in strs:\n",
    "            res[tuple(sorted(i))].append(i)\n",
    "        return res.values()"
   ]
  },
  {
   "cell_type": "markdown",
   "metadata": {},
   "source": [
    "# Counting Elements\n",
    "\n",
    "Given an integer array arr, count how many elements x there are, such that x + 1 is also in arr.\n",
    "\n",
    "If there're duplicates in arr, count them seperately.\n",
    "\n",
    "Input: arr = [1,2,3]\n",
    "Output: 2\n",
    "Explanation: 1 and 2 are counted cause 2 and 3 are in arr."
   ]
  },
  {
   "cell_type": "code",
   "execution_count": null,
   "metadata": {},
   "outputs": [],
   "source": [
    "class Solution(object):\n",
    "    def countElements(self, arr):\n",
    "        \n",
    "        D ={}\n",
    "        for x in arr:\n",
    "            D[x] =1\n",
    "        result = 0\n",
    "        for i in arr:\n",
    "            if i+1 in D:\n",
    "                result +=1\n",
    "        return result"
   ]
  },
  {
   "cell_type": "markdown",
   "metadata": {},
   "source": [
    "# Middle of the Linked List\n",
    "\n",
    "Given a non-empty, singly linked list with head node head, return a middle node of linked list.\n",
    "\n",
    "If there are two middle nodes, return the second middle node.\n",
    "\n",
    "Input: [1,2,3,4,5]\n",
    "Output: Node 3 from this list (Serialization: [3,4,5])\n"
   ]
  },
  {
   "cell_type": "code",
   "execution_count": null,
   "metadata": {},
   "outputs": [],
   "source": [
    "class Solution(object):\n",
    "    def middleNode(self, head):\n",
    "        \n",
    "        slow = fast = head\n",
    "        while fast and fast.next:\n",
    "            slow = slow.next\n",
    "            fast = fast.next.next\n",
    "        return slow"
   ]
  },
  {
   "cell_type": "markdown",
   "metadata": {},
   "source": [
    "# Backspace String Compare\n",
    "\n",
    "Given two strings S and T, return if they are equal when both are typed into empty text editors. # means a backspace character.\n",
    "\n",
    "Input: S = \"ab#c\", T = \"ad#c\"\n",
    "Output: true\n",
    "Explanation: Both S and T become \"ac\"."
   ]
  },
  {
   "cell_type": "code",
   "execution_count": null,
   "metadata": {},
   "outputs": [],
   "source": [
    "class Solution(object):\n",
    "    def backspaceCompare(self, S, T):\n",
    "       \n",
    "        i, j = len(S) - 1, len(T) - 1\n",
    "        backS = backT = 0\n",
    "        while True:\n",
    "            while i >= 0 and (backS or S[i] == '#'):\n",
    "                backS += 1 if S[i] == '#' else -1\n",
    "                i -= 1\n",
    "            while j >= 0 and (backT or T[j] == '#'):\n",
    "                backT += 1 if T[j] == '#' else -1\n",
    "                j -= 1\n",
    "            if not (i >= 0 and j >= 0 and S[i] == T[j]):\n",
    "                return i == j == -1\n",
    "            i, j = i - 1, j - 1"
   ]
  },
  {
   "cell_type": "markdown",
   "metadata": {},
   "source": [
    "# Min Stack\n",
    "\n",
    "Design a stack that supports push, pop, top, and retrieving the minimum element in constant time.\n",
    "\n",
    "push(x) -- Push element x onto stack.\n",
    "pop() -- Removes the element on top of the stack.\n",
    "top() -- Get the top element.\n",
    "getMin() -- Retrieve the minimum element in the stack.\n",
    "\n",
    "Input\n",
    "[\"MinStack\",\"push\",\"push\",\"push\",\"getMin\",\"pop\",\"top\",\"getMin\"]\n",
    "[[],[-2],[0],[-3],[],[],[],[]]\n",
    "\n",
    "Output\n",
    "[null,null,null,null,-3,null,0,-2]"
   ]
  },
  {
   "cell_type": "markdown",
   "metadata": {},
   "source": [
    "class MinStack(object):\n",
    "\n",
    "    def __init__(self):\n",
    "        \n",
    "        self.q = []\n",
    "        \n",
    "\n",
    "    def push(self, x):\n",
    "        \n",
    "        curMin = self.getMin()\n",
    "        if curMin == None or x < curMin:\n",
    "            curMin = x\n",
    "        self.q.append((x, curMin));\n",
    "        \n",
    "\n",
    "    def pop(self):\n",
    "        self.q.pop()\n",
    "        \n",
    "    def top(self):\n",
    "        if len(self.q) == 0:\n",
    "            return None\n",
    "        else:\n",
    "            return self.q[len(self.q) - 1][0]\n",
    "        \n",
    "    def getMin(self):\n",
    "        if len(self.q) == 0:\n",
    "            return None\n",
    "        else:\n",
    "            return self.q[len(self.q) - 1][1]"
   ]
  },
  {
   "cell_type": "markdown",
   "metadata": {},
   "source": [
    "# Diameter of Binary Tree\n",
    "\n",
    "Given a binary tree, you need to compute the length of the diameter of the tree. The diameter of a binary tree is the length of the longest path between any two nodes in a tree. This path may or may not pass through the root.\n",
    "\n",
    "Given a binary tree\n",
    "          1\n",
    "         / \\\n",
    "        2   3\n",
    "       / \\     \n",
    "      4   5    \n",
    "Return 3, which is the length of the path [4,2,1,3] or [5,2,1,3]."
   ]
  },
  {
   "cell_type": "code",
   "execution_count": null,
   "metadata": {},
   "outputs": [],
   "source": [
    "class Solution(object):\n",
    "    def diameterOfBinaryTree(self, root):\n",
    "        \n",
    "        self.ans = 0\n",
    "        def diameter(l):\n",
    "            if not l: return 0\n",
    "            left = diameter(l.left)\n",
    "            right = diameter(l.right)\n",
    "            self.ans = max(self.ans, left+right)\n",
    "            return 1+max(left,right)\n",
    "        \n",
    "        diameter(root)\n",
    "        return self.ans"
   ]
  },
  {
   "cell_type": "markdown",
   "metadata": {},
   "source": [
    "# Last Stone Weight\n",
    "\n",
    "We have a collection of stones, each stone has a positive integer weight.\n",
    "\n",
    "Each turn, we choose the two heaviest stones and smash them together.  Suppose the stones have weights x and y with x <= y.  The result of this smash is:\n",
    "\n",
    "If x == y, both stones are totally destroyed;\n",
    "If x != y, the stone of weight x is totally destroyed, and the stone of weight y has new weight y-x.\n",
    "At the end, there is at most 1 stone left.  Return the weight of this stone (or 0 if there are no stones left.)\n",
    "\n",
    "Input: [2,7,4,1,8,1]\n",
    "Output: 1"
   ]
  },
  {
   "cell_type": "code",
   "execution_count": null,
   "metadata": {},
   "outputs": [],
   "source": [
    "class Solution(object):\n",
    "    def lastStoneWeight(self, stones):\n",
    "        \n",
    "        stones.sort()\n",
    "        while len(stones) > 1:\n",
    "            bisect.insort(stones, stones.pop() - stones.pop())\n",
    "        return stones[0]"
   ]
  },
  {
   "cell_type": "markdown",
   "metadata": {},
   "source": [
    "# Contiguous Array\n",
    "\n",
    "Given a binary array, find the maximum length of a contiguous subarray with equal number of 0 and 1.\n",
    "\n",
    "Input: [0,1]\n",
    "Output: 2\n",
    "Explanation: [0, 1] is the longest contiguous subarray with equal number of 0 and 1."
   ]
  },
  {
   "cell_type": "code",
   "execution_count": null,
   "metadata": {},
   "outputs": [],
   "source": [
    "class Solution(object):\n",
    "    def findMaxLength(self, nums):\n",
    "        \n",
    "        count = 0\n",
    "        maxlen=0\n",
    "        table = {0: 0}\n",
    "        for i, value in enumerate(nums, 1):\n",
    "            if value == 0:\n",
    "                count -= 1\n",
    "            else:\n",
    "                count += 1\n",
    "            \n",
    "            if count in table:\n",
    "                maxlen = max(maxlen, i - table[count])\n",
    "            else:\n",
    "                table[count] = i\n",
    "        \n",
    "        return maxlen"
   ]
  },
  {
   "cell_type": "markdown",
   "metadata": {},
   "source": [
    "# Perform String Shifts\n",
    "\n",
    "You are given a string s containing lowercase English letters, and a matrix shift, where shift[i] = [direction, amount]:\n",
    "\n",
    "direction can be 0 (for left shift) or 1 (for right shift). \n",
    "amount is the amount by which string s is to be shifted.\n",
    "A left shift by 1 means remove the first character of s and append it to the end.\n",
    "Similarly, a right shift by 1 means remove the last character of s and add it to the beginning.\n",
    "Return the final string after all operations.\n",
    "\n",
    "Input: s = \"abc\", shift = [[0,1],[1,2]]\n",
    "Output: \"cab\""
   ]
  },
  {
   "cell_type": "code",
   "execution_count": null,
   "metadata": {},
   "outputs": [],
   "source": [
    "class Solution(object):\n",
    "    def stringShift(self, s, shift):\n",
    "        \n",
    "        move_left = 0\n",
    "        length=len(s)\n",
    "        for direction ,amount in shift:\n",
    "            if direction ==0:\n",
    "                move_left += amount\n",
    "            else:\n",
    "                move_left -= amount\n",
    "        move_left %= length\n",
    "        return s[move_left:] + s[:move_left]"
   ]
  },
  {
   "cell_type": "markdown",
   "metadata": {},
   "source": [
    "# Product of Array Except Self\n",
    "\n",
    "Given an array nums of n integers where n > 1,  return an array output such that output[i] is equal to the product of all the elements of nums except nums[i].\n",
    "\n",
    "Input:  [1,2,3,4]\n",
    "Output: [24,12,8,6]"
   ]
  },
  {
   "cell_type": "code",
   "execution_count": null,
   "metadata": {},
   "outputs": [],
   "source": [
    "class Solution(object):\n",
    "    def productExceptSelf(self, nums):\n",
    "        \n",
    "        x = 1\n",
    "        length = len(nums)\n",
    "        res = []\n",
    "        for i in range(0,length):\n",
    "            res.append(x)\n",
    "            x = x * nums[i]\n",
    "        x = 1\n",
    "        for i in range(length-1,-1,-1):\n",
    "            res[i] = res[i] * x\n",
    "            x = x * nums[i]\n",
    "        return res"
   ]
  },
  {
   "cell_type": "markdown",
   "metadata": {},
   "source": [
    "# Valid Parenthesis String\n",
    "\n",
    "Given a string containing only three types of characters: '(', ')' and '*', write a function to check whether this string is valid. We define the validity of a string by these rules:\n",
    "\n",
    "Any left parenthesis '(' must have a corresponding right parenthesis ')'.\n",
    "Any right parenthesis ')' must have a corresponding left parenthesis '('.\n",
    "Left parenthesis '(' must go before the corresponding right parenthesis ')'.\n",
    "'*' could be treated as a single right parenthesis ')' or a single left parenthesis '(' or an empty string.\n",
    "An empty string is also valid.\n",
    "\n",
    "Input: \"()\"\n",
    "Output: True"
   ]
  },
  {
   "cell_type": "code",
   "execution_count": null,
   "metadata": {},
   "outputs": [],
   "source": [
    "class Solution(object):\n",
    "    def checkValidString(self, s):\n",
    "        \n",
    "        cmin = cmax = 0\n",
    "        for i in s:\n",
    "            if i == '(':\n",
    "                cmax += 1\n",
    "                cmin += 1\n",
    "            if i == ')':\n",
    "                cmax -= 1\n",
    "                cmin = max(cmin - 1, 0)\n",
    "            if i == '*':\n",
    "                cmax += 1\n",
    "                cmin = max(cmin - 1, 0)\n",
    "            if cmax < 0:\n",
    "                return False\n",
    "        return cmin == 0"
   ]
  },
  {
   "cell_type": "markdown",
   "metadata": {},
   "source": [
    "# Number of Islands\n",
    "\n",
    "Given a 2d grid map of '1's (land) and '0's (water), count the number of islands. An island is surrounded by water and is formed by connecting adjacent lands horizontally or vertically. You may assume all four edges of the grid are all surrounded by water.\n",
    "\n",
    "Input:\n",
    "11110\n",
    "11010\n",
    "11000\n",
    "00000\n",
    "\n",
    "Output: 1"
   ]
  },
  {
   "cell_type": "code",
   "execution_count": null,
   "metadata": {},
   "outputs": [],
   "source": [
    "class Solution(object):\n",
    "    def numIslands(self, grid):\n",
    "        \n",
    "        if not grid:\n",
    "            return 0\n",
    "        \n",
    "        count = 0\n",
    "        for i in range(len(grid)):\n",
    "            for j in range(len(grid[0])):\n",
    "                if grid[i][j] == '1':\n",
    "                    self.dfs(grid, i, j)\n",
    "                    count += 1\n",
    "        return count\n",
    "\n",
    "    def dfs(self, grid, i, j):\n",
    "        if i<0 or j<0 or i>=len(grid) or j>=len(grid[0]) or grid[i][j] != '1':\n",
    "            return\n",
    "        grid[i][j] = '#'\n",
    "        self.dfs(grid, i+1, j)\n",
    "        self.dfs(grid, i-1, j)\n",
    "        self.dfs(grid, i, j+1)\n",
    "        self.dfs(grid, i, j-1)"
   ]
  },
  {
   "cell_type": "markdown",
   "metadata": {},
   "source": [
    "# Minimum Path Sum\n",
    "\n",
    "Given a m x n grid filled with non-negative numbers, find a path from top left to bottom right which minimizes the sum of all numbers along its path.\n",
    "\n",
    "Input:\n",
    "[\n",
    "  [1,3,1],\n",
    "  [1,5,1],\n",
    "  [4,2,1]\n",
    "]\n",
    "Output: 7"
   ]
  },
  {
   "cell_type": "code",
   "execution_count": null,
   "metadata": {},
   "outputs": [],
   "source": [
    "class Solution(object):\n",
    "    def minPathSum(self, grid):\n",
    "        \n",
    "        if not grid:\n",
    "            return \n",
    "        r, c = len(grid), len(grid[0])\n",
    "        cur = [0] * c\n",
    "        cur[0] = grid[0][0] \n",
    "        for i in xrange(1, c):\n",
    "            cur[i] = cur[i-1] + grid[0][i]\n",
    "        for i in xrange(1, r):\n",
    "            cur[0] += grid[i][0]\n",
    "            for j in xrange(1, c):\n",
    "                cur[j] = min(cur[j-1], cur[j]) + grid[i][j]\n",
    "        return cur[-1]"
   ]
  },
  {
   "cell_type": "markdown",
   "metadata": {},
   "source": [
    "# Search in Rotated Sorted Array\n",
    "\n",
    "Suppose an array sorted in ascending order is rotated at some pivot unknown to you beforehand.\n",
    "\n",
    "Input: nums = [4,5,6,7,0,1,2], target = 0\n",
    "Output: 4"
   ]
  },
  {
   "cell_type": "code",
   "execution_count": null,
   "metadata": {},
   "outputs": [],
   "source": [
    "class Solution(object):\n",
    "    def search(self, nums, target):\n",
    "        \n",
    "        if not nums:\n",
    "            return -1\n",
    "\n",
    "        low, high = 0, len(nums) - 1\n",
    "\n",
    "        while low <= high:\n",
    "            mid = (low + high) / 2\n",
    "            if target == nums[mid]:\n",
    "                return mid\n",
    "\n",
    "            if nums[low] <= nums[mid]:\n",
    "                if nums[low] <= target <= nums[mid]:\n",
    "                    high = mid - 1\n",
    "                else:\n",
    "                    low = mid + 1\n",
    "            else:\n",
    "                if nums[mid] <= target <= nums[high]:\n",
    "                    low = mid + 1\n",
    "                else:\n",
    "                    high = mid - 1\n",
    "\n",
    "        return -1"
   ]
  },
  {
   "cell_type": "markdown",
   "metadata": {},
   "source": [
    "# Construct Binary Search Tree from Preorder Traversal\n",
    "\n",
    "Return the root node of a binary search tree that matches the given preorder traversal.\n",
    "\n",
    "Input: [8,5,1,7,10,12]\n",
    "Output: [8,5,10,1,7,null,12]"
   ]
  },
  {
   "cell_type": "code",
   "execution_count": null,
   "metadata": {},
   "outputs": [],
   "source": [
    "class Solution(object):\n",
    "    def bstFromPreorder(self, preorder):\n",
    "        \n",
    "        if not preorder: return None\n",
    "        root = TreeNode(preorder[0])\n",
    "        i = bisect.bisect(preorder, preorder[0])\n",
    "        root.left = self.bstFromPreorder(preorder[1:i])\n",
    "        root.right = self.bstFromPreorder(preorder[i:])\n",
    "        return root"
   ]
  },
  {
   "cell_type": "markdown",
   "metadata": {},
   "source": [
    "# Leftmost Column with at Least a One\n",
    "\n",
    "Given a row-sorted binary matrix binaryMatrix, return leftmost column index(0-indexed) with at least a 1 in it. \n",
    "If such index doesn't exist, return -1.\n",
    "Input: mat = [[0,0],[1,1]]\n",
    "Output: 0"
   ]
  },
  {
   "cell_type": "code",
   "execution_count": null,
   "metadata": {},
   "outputs": [],
   "source": [
    "class Solution(object):\n",
    "    def leftMostColumnWithOne(self, binaryMatrix):\n",
    "        \n",
    "        n,m = binaryMatrix.dimensions();i = n-1;j= m-1\n",
    "        while (i>=0 and j>=0):\n",
    "            if binaryMatrix.get(i,j)==0 :i-=1\n",
    "            else:j-=1\n",
    "            \n",
    "        return -1 if j == m-1  else j+1"
   ]
  },
  {
   "cell_type": "markdown",
   "metadata": {},
   "source": [
    "# Subarray Sum Equals K\n",
    "\n",
    "Given an array of integers and an integer k, you need to find the total number of continuous subarrays whose sum equals to k.\n",
    "\n",
    "Input:nums = [1,1,1], k = 2\n",
    "Output: 2"
   ]
  },
  {
   "cell_type": "code",
   "execution_count": null,
   "metadata": {},
   "outputs": [],
   "source": [
    "class Solution(object):\n",
    "    def subarraySum(self, nums, k):\n",
    "        \n",
    "        count = collections.Counter()\n",
    "        count[0] = 1\n",
    "        res = x=0\n",
    "        for i in nums:\n",
    "            x +=i\n",
    "            res += count[x-k]\n",
    "            count[x] +=1\n",
    "        return res"
   ]
  },
  {
   "cell_type": "markdown",
   "metadata": {},
   "source": [
    "# Bitwise AND of Numbers Range\n",
    "\n",
    "Given a range [m, n] where 0 <= m <= n <= 2147483647, return the bitwise AND of all numbers in this range, inclusive.\n",
    "\n",
    "Input: [5,7]\n",
    "Output: 4"
   ]
  },
  {
   "cell_type": "code",
   "execution_count": null,
   "metadata": {},
   "outputs": [],
   "source": [
    "class Solution(object):\n",
    "    def rangeBitwiseAnd(self, m, n):\n",
    "        \n",
    "        i = 0\n",
    "        while m != n:\n",
    "            m >>= 1\n",
    "            n >>= 1\n",
    "            i += 1\n",
    "        return n << i"
   ]
  },
  {
   "cell_type": "markdown",
   "metadata": {},
   "source": [
    "# LRU Cache\n",
    "\n",
    "Design and implement a data structure for Least Recently Used (LRU) cache. \n",
    "It should support the following operations: get and put."
   ]
  },
  {
   "cell_type": "code",
   "execution_count": null,
   "metadata": {},
   "outputs": [],
   "source": [
    "class LRUCache(object):\n",
    "\n",
    "    def __init__(self, capacity):\n",
    "        \n",
    "        self.dic = collections.OrderedDict()\n",
    "        self.remain = capacity\n",
    "\n",
    "\n",
    "    def get(self, key):\n",
    "        \n",
    "        if key not in self.dic:\n",
    "            return -1\n",
    "        v = self.dic.pop(key) \n",
    "        self.dic[key] = v  \n",
    "        return v\n",
    "        \n",
    "\n",
    "    def put(self, key, value):\n",
    "        \n",
    "        if key in self.dic:    \n",
    "            self.dic.pop(key)\n",
    "        else:\n",
    "            if self.remain > 0:\n",
    "                self.remain -= 1  \n",
    "            else: \n",
    "                self.dic.popitem(last=False) \n",
    "        self.dic[key] = value"
   ]
  },
  {
   "cell_type": "markdown",
   "metadata": {},
   "source": [
    "# Jump Game\n",
    "\n",
    "Given an array of non-negative integers, you are initially positioned at the first index of the array.\n",
    "\n",
    "Each element in the array represents your maximum jump length at that position.\n",
    "\n",
    "Determine if you are able to reach the last index.\n",
    "\n",
    "Input: nums = [2,3,1,1,4]\n",
    "Output: true\n",
    "Explanation: Jump 1 step from index 0 to 1, then 3 steps to the last index."
   ]
  },
  {
   "cell_type": "code",
   "execution_count": null,
   "metadata": {},
   "outputs": [],
   "source": [
    "class Solution:\n",
    "    def canJump(self, nums: List[int]) -> bool:\n",
    "        max_reach, n = 0, len(nums)\n",
    "        for i, x in enumerate(nums):\n",
    "            if max_reach < i: return False\n",
    "            if max_reach >= n - 1: return True\n",
    "            max_reach = max(max_reach, i + x)"
   ]
  },
  {
   "cell_type": "markdown",
   "metadata": {},
   "source": [
    "# Longest Common Subsequence\n",
    "\n",
    "Given two strings text1 and text2, return the length of their longest common subsequence.\n",
    "\n",
    "A subsequence of a string is a new string generated from the original string with some characters(can be none) deleted without changing the relative order of the remaining characters. (eg, \"ace\" is a subsequence of \"abcde\" while \"aec\" is not). A common subsequence of two strings is a subsequence that is common to both strings.\n",
    "\n",
    "Input: text1 = \"abcde\", text2 = \"ace\" \n",
    "Output: 3  \n",
    "Explanation: The longest common subsequence is \"ace\" and its length is 3."
   ]
  },
  {
   "cell_type": "code",
   "execution_count": null,
   "metadata": {},
   "outputs": [],
   "source": [
    "class Solution(object):\n",
    "    def longestCommonSubsequence(self, text1, text2):\n",
    "        \n",
    "        n,m=len(text1),len(text2)\n",
    "        dp=[[0]*(m+1) for _ in range(n+1)]\n",
    "        for i in range(n):\n",
    "            for j in range(m):\n",
    "                if text1[i]==text2[j]:\n",
    "                    dp[i+1][j+1]=dp[i][j]+1\n",
    "                else:\n",
    "                    dp[i+1][j+1]=max(dp[i][j+1],dp[i+1][j])\n",
    "        return dp[-1][-1]"
   ]
  },
  {
   "cell_type": "markdown",
   "metadata": {},
   "source": [
    "# Maximal Square\n",
    "\n",
    "Given a 2D binary matrix filled with 0's and 1's, find the largest square containing only 1's and return its area.\n",
    "\n",
    "Input: \n",
    "\n",
    "1 0 1 0 0\n",
    "1 0 1 1 1\n",
    "1 1 1 1 1\n",
    "1 0 0 1 0\n",
    "\n",
    "Output: 4"
   ]
  },
  {
   "cell_type": "code",
   "execution_count": null,
   "metadata": {},
   "outputs": [],
   "source": [
    "class Solution(object):\n",
    "    def maximalSquare(self, matrix):\n",
    "        \n",
    "        for i in range(len(matrix)):\n",
    "            for j in range(len(matrix[i])):\n",
    "                matrix[i][j] = int(matrix[i][j])\n",
    "                if matrix[i][j] and i and j:\n",
    "                    matrix[i][j] = min(matrix[i-1][j], matrix[i-1][j-1], matrix[i][j-1]) + 1\n",
    "        return len(matrix) and max(map(max, matrix)) ** 2"
   ]
  },
  {
   "cell_type": "markdown",
   "metadata": {},
   "source": [
    "# First Unique Number\n",
    "\n",
    "You have a queue of integers, you need to retrieve the first unique integer in the queue.\n",
    "\n",
    "Implement the FirstUnique class:\n",
    "\n",
    "FirstUnique(int[] nums) Initializes the object with the numbers in the queue.\n",
    "int showFirstUnique() returns the value of the first unique integer of the queue, and returns -1 if there is no such integer.\n",
    "void add(int value) insert value to the queue.\n",
    "\n",
    "Input: \n",
    "[\"FirstUnique\",\"showFirstUnique\",\"add\",\"showFirstUnique\",\"add\",\"showFirstUnique\",\"add\",\"showFirstUnique\"]\n",
    "[[[2,3,5]],[],[5],[],[2],[],[3],[]]\n",
    "Output: \n",
    "[null,2,null,2,null,3,null,-1]"
   ]
  },
  {
   "cell_type": "code",
   "execution_count": null,
   "metadata": {},
   "outputs": [],
   "source": [
    "class FirstUnique:\n",
    "\n",
    "    def __init__(self, nums: List[int]):\n",
    "        self.q=[]\n",
    "        self.dict={}\n",
    "        for i in nums:\n",
    "            self.add(i)\n",
    "            \n",
    "    def showFirstUnique(self) -> int:\n",
    "        while len(self.q) >0 and self.dict[self.q[0]]>1:\n",
    "            self.q.pop(0)\n",
    "        if len(self.q) ==0:\n",
    "            return -1\n",
    "        else:\n",
    "            return self.q[0]\n",
    "                \n",
    "    def add(self, value: int) -> None:\n",
    "        if value in self.dict:\n",
    "            self.dict[value] +=1\n",
    "        else:\n",
    "            self.dict[value] =1\n",
    "            self.q.append(value)"
   ]
  },
  {
   "cell_type": "markdown",
   "metadata": {},
   "source": [
    "# Binary Tree Maximum Path Sum\n",
    "\n",
    "Given a non-empty binary tree, find the maximum path sum.\n",
    "\n",
    "For this problem, a path is defined as any sequence of nodes from some starting node to any node in the tree along the parent-child connections. The path must contain at least one node and does not need to go through the root.\n",
    "\n",
    "Input: [1,2,3]\n",
    "\n",
    "       1\n",
    "      / \\\n",
    "     2   3\n",
    "\n",
    "Output: 6"
   ]
  },
  {
   "cell_type": "code",
   "execution_count": null,
   "metadata": {},
   "outputs": [],
   "source": [
    "class Solution(object):\n",
    "    current_max = float('-inf')\n",
    "    def maxPathSum(self, root):\n",
    "        \n",
    "        self.maxPathSumHelper(root)\n",
    "        return self.current_max\n",
    "\n",
    "    def maxPathSumHelper(self, root):\n",
    "        \n",
    "        if root is None:\n",
    "            return root\n",
    "        left = self.maxPathSumHelper(root.left)\n",
    "        right = self.maxPathSumHelper(root.right)\n",
    "        left = 0 if left is None else (left if left > 0 else 0)\n",
    "        right = 0 if right is None else (right if right > 0 else 0)\n",
    "        self.current_max = max(left+right+root.val, self.current_max)\n",
    "        return max(left, right) + root.val"
   ]
  },
  {
   "cell_type": "markdown",
   "metadata": {},
   "source": [
    "# Check If a String Is a Valid Sequence from Root to Leaves Path in a Binary Tree\n",
    "Given a binary tree where each path going from the root to any leaf form a valid sequence, check if a given string is a valid sequence in such binary tree. \n",
    "Input: root = [0,1,0,0,1,0,null,null,1,0,0], arr = [0,1,0,1]\n",
    "Output: true"
   ]
  },
  {
   "cell_type": "code",
   "execution_count": null,
   "metadata": {},
   "outputs": [],
   "source": [
    "class Solution:\n",
    "    def isValidSequence(self, root: TreeNode, arr: List[int]) -> bool:\n",
    "        \n",
    "        N = len(arr)\n",
    "        \n",
    "    \n",
    "        def visit(node,index):\n",
    "            if index == N-1:\n",
    "                if node is not None and node.val==arr[index]:\n",
    "                    return node.left is None and node.right is None\n",
    "                return False\n",
    "            if node is None:\n",
    "                return False"
   ]
  }
 ],
 "metadata": {
  "kernelspec": {
   "display_name": "Python 3",
   "language": "python",
   "name": "python3"
  },
  "language_info": {
   "codemirror_mode": {
    "name": "ipython",
    "version": 3
   },
   "file_extension": ".py",
   "mimetype": "text/x-python",
   "name": "python",
   "nbconvert_exporter": "python",
   "pygments_lexer": "ipython3",
   "version": "3.7.3"
  }
 },
 "nbformat": 4,
 "nbformat_minor": 2
}
